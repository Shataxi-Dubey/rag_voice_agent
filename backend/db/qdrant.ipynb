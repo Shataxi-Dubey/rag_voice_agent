{
 "cells": [
  {
   "cell_type": "code",
   "execution_count": 1,
   "id": "2f93f19c",
   "metadata": {},
   "outputs": [],
   "source": [
    "from qdrant_client import QdrantClient\n",
    "from qdrant_client.models import Distance, VectorParams\n",
    "from qdrant_client.models import PointStruct"
   ]
  },
  {
   "cell_type": "code",
   "execution_count": 2,
   "id": "7b1e3474",
   "metadata": {},
   "outputs": [
    {
     "name": "stderr",
     "output_type": "stream",
     "text": [
      "/tmp/ipykernel_23634/1790002613.py:5: DeprecationWarning: `recreate_collection` method is deprecated and will be removed in the future. Use `collection_exists` to check collection existence and `create_collection` instead.\n",
      "  client.recreate_collection(\n"
     ]
    },
    {
     "data": {
      "text/plain": [
       "True"
      ]
     },
     "execution_count": 2,
     "metadata": {},
     "output_type": "execute_result"
    }
   ],
   "source": [
    "# If using local Docker or remote Qdrant Cloud:\n",
    "client = QdrantClient(url=\"http://localhost:6333\")  \n",
    "\n",
    "# Create a collection named \"my_collection\" with 1536-dim vectors using cosine similarity\n",
    "client.recreate_collection(\n",
    "    collection_name=\"my_collection\",\n",
    "    vectors_config=VectorParams(size=4, distance=Distance.COSINE)\n",
    ")"
   ]
  },
  {
   "cell_type": "code",
   "execution_count": 3,
   "id": "0a8f7845",
   "metadata": {},
   "outputs": [
    {
     "name": "stdout",
     "output_type": "stream",
     "text": [
      "Inserted 3 points. Status: completed\n"
     ]
    }
   ],
   "source": [
    "# Example vectors (e.g., embeddings of some texts) and payloads\n",
    "vectors = [\n",
    "    [0.05, 0.61, 0.76, 0.74],\n",
    "    [0.19, 0.81, 0.75, 0.11],\n",
    "    [0.36, 0.55, 0.47, 0.94],\n",
    "]\n",
    "payloads = [\n",
    "    {\"city\": \"Berlin\", \"country\": \"Germany\"},\n",
    "    {\"city\": \"London\", \"country\": \"UK\"},\n",
    "    {\"city\": \"Moscow\", \"country\": \"Russia\"},\n",
    "]\n",
    "\n",
    "points = []\n",
    "for i, (vec, meta) in enumerate(zip(vectors, payloads), start=1):\n",
    "    points.append(PointStruct(id=i, vector=vec, payload=meta))\n",
    "\n",
    "# Upsert points into the collection\n",
    "result = client.upsert(\n",
    "    collection_name=\"my_collection\",\n",
    "    points=points,\n",
    "    wait=True  # wait for operation to complete\n",
    ")\n",
    "print(f\"Inserted {len(points)} points. Status: {result.status}\")"
   ]
  },
  {
   "cell_type": "code",
   "execution_count": 4,
   "id": "bde3414a",
   "metadata": {},
   "outputs": [
    {
     "name": "stdout",
     "output_type": "stream",
     "text": [
      "Found ID 1 with score 0.89463294, payload={'city': 'Berlin', 'country': 'Germany'}\n",
      "Found ID 3 with score 0.83872515, payload={'city': 'Moscow', 'country': 'Russia'}\n",
      "Found ID 2 with score 0.66603535, payload={'city': 'London', 'country': 'UK'}\n"
     ]
    },
    {
     "name": "stderr",
     "output_type": "stream",
     "text": [
      "/tmp/ipykernel_23634/3024841082.py:3: DeprecationWarning: `search` method is deprecated and will be removed in the future. Use `query_points` instead.\n",
      "  results = client.search(\n"
     ]
    }
   ],
   "source": [
    "# Query the collection for nearest neighbors of a given vector\n",
    "query_vector = [0.2, 0.1, 0.9, 0.7]\n",
    "results = client.search(\n",
    "    collection_name=\"my_collection\",\n",
    "    query_vector=query_vector,\n",
    "    limit=3,            # return 3 nearest points\n",
    "    with_payload=True   # include payload data in results\n",
    ")\n",
    "for point in results:\n",
    "    print(f\"Found ID {point.id} with score {point.score}, payload={point.payload}\")"
   ]
  },
  {
   "cell_type": "code",
   "execution_count": 5,
   "id": "01a0b5c7",
   "metadata": {},
   "outputs": [
    {
     "name": "stdout",
     "output_type": "stream",
     "text": [
      "Found ID 2, city=London, score=0.66603535\n"
     ]
    },
    {
     "name": "stderr",
     "output_type": "stream",
     "text": [
      "/tmp/ipykernel_23634/590064084.py:4: DeprecationWarning: `search` method is deprecated and will be removed in the future. Use `query_points` instead.\n",
      "  results = client.search(\n"
     ]
    }
   ],
   "source": [
    "from qdrant_client.models import Filter, FieldCondition, MatchValue\n",
    "\n",
    "# Find nearest neighbors to the query_vector, but only where city == \"London\"\n",
    "results = client.search(\n",
    "    collection_name=\"my_collection\",\n",
    "    query_vector=query_vector,\n",
    "    query_filter=Filter(\n",
    "        must=[FieldCondition(key=\"city\", match=MatchValue(value=\"London\"))]\n",
    "    ),\n",
    "    limit=3,\n",
    "    with_payload=True\n",
    ")\n",
    "for point in results:\n",
    "    print(f\"Found ID {point.id}, city={point.payload.get('city')}, score={point.score}\")"
   ]
  },
  {
   "cell_type": "code",
   "execution_count": 7,
   "id": "55d9b9b9",
   "metadata": {},
   "outputs": [
    {
     "data": {
      "text/plain": [
       "'{\"id\":2,\"version\":0,\"score\":0.66603535,\"payload\":{\"city\":\"London\",\"country\":\"UK\"},\"vector\":null,\"shard_key\":null,\"order_value\":null}'"
      ]
     },
     "execution_count": 7,
     "metadata": {},
     "output_type": "execute_result"
    }
   ],
   "source": [
    "point.model_dump_json()"
   ]
  }
 ],
 "metadata": {
  "kernelspec": {
   "display_name": "shataxi_venv (3.12.3)",
   "language": "python",
   "name": "python3"
  },
  "language_info": {
   "codemirror_mode": {
    "name": "ipython",
    "version": 3
   },
   "file_extension": ".py",
   "mimetype": "text/x-python",
   "name": "python",
   "nbconvert_exporter": "python",
   "pygments_lexer": "ipython3",
   "version": "3.12.3"
  }
 },
 "nbformat": 4,
 "nbformat_minor": 5
}
